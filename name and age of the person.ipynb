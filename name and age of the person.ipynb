{
 "cells": [
  {
   "cell_type": "code",
   "execution_count": null,
   "id": "c10df8b9",
   "metadata": {},
   "outputs": [],
   "source": [
    "#name and age of the person\n",
    "name=(input(\"enter the name :\"))\n",
    "print(name)\n",
    "\n",
    "years=int((input(\"enter the dob \")))\n",
    "print(years)\n",
    "print(int)\n",
    "a=2024-years\n",
    "print(\"the person is\",name,\"born in\",years,\"is\",a)"
   ]
  },
  {
   "cell_type": "code",
   "execution_count": null,
   "id": "509cf9c1",
   "metadata": {},
   "outputs": [],
   "source": []
  },
  {
   "cell_type": "code",
   "execution_count": null,
   "id": "84817c35",
   "metadata": {},
   "outputs": [],
   "source": []
  },
  {
   "cell_type": "code",
   "execution_count": null,
   "id": "daa821f1",
   "metadata": {},
   "outputs": [],
   "source": []
  },
  {
   "cell_type": "code",
   "execution_count": null,
   "id": "4d56c71b",
   "metadata": {},
   "outputs": [],
   "source": []
  },
  {
   "cell_type": "code",
   "execution_count": null,
   "id": "c8a65d8c",
   "metadata": {},
   "outputs": [],
   "source": []
  },
  {
   "cell_type": "code",
   "execution_count": null,
   "id": "dcdee392",
   "metadata": {},
   "outputs": [],
   "source": []
  },
  {
   "cell_type": "code",
   "execution_count": 11,
   "id": "7e25279c",
   "metadata": {},
   "outputs": [
    {
     "name": "stdout",
     "output_type": "stream",
     "text": [
      "enter the marks40\n",
      "fail\n"
     ]
    }
   ],
   "source": [
    "#read the marks of the student\n",
    "m=int(input(\"enter the marks\"))\n",
    "if m>=80:\n",
    "    print(\"dinstinction\")\n",
    "elif m>=60 and m<80:\n",
    "    print(\"pass\")\n",
    "else:\n",
    "    print(\"fail\")\n"
   ]
  },
  {
   "cell_type": "code",
   "execution_count": null,
   "id": "ef789db0",
   "metadata": {},
   "outputs": [],
   "source": [
    "#palindrome number\n",
    "num=int(input(\"enter the number\"))\n",
    "temp=num\n",
    "rev=0\n",
    "while(num):\n",
    "    r=num%10\n",
    "    rev=rev*10+r\n",
    "    num=num//10\n",
    "if(temp==rev):\n",
    "    print(\"it is palindrome\")\n",
    "else:\n",
    "    print(\"not a plaindrome\")"
   ]
  },
  {
   "cell_type": "code",
   "execution_count": null,
   "id": "529ed67f",
   "metadata": {},
   "outputs": [],
   "source": []
  },
  {
   "cell_type": "code",
   "execution_count": null,
   "id": "44f1cdee",
   "metadata": {},
   "outputs": [],
   "source": [
    " "
   ]
  },
  {
   "cell_type": "code",
   "execution_count": 2,
   "id": "c0d80d7c",
   "metadata": {},
   "outputs": [
    {
     "name": "stdout",
     "output_type": "stream",
     "text": [
      "enter the number-234\n",
      "234\n"
     ]
    }
   ],
   "source": [
    "#negative to positive\n",
    "n=int(input(\"enter the number\"))\n",
    "p=abs(n)\n",
    "print(p)\n",
    "    "
   ]
  },
  {
   "cell_type": "code",
   "execution_count": null,
   "id": "9f343caa",
   "metadata": {},
   "outputs": [],
   "source": [
    "#to check strong number\n",
    "num=int(input(\"enter the number\"))\n",
    "sum=0\n",
    "temp=num\n",
    "while(num):\n",
    "    i=1\n",
    "    f=1\n",
    "    r=num%10  #for extracting each digit\n",
    "    while(i<=r):\n",
    "        f=f*i\n",
    "        i=i+1\n",
    "    sum=sum+f  #find sum\n",
    "    num=num//10  #reduce the no.\n",
    "if(sum==temp):\n",
    "    print(\"it si strong no.\")\n",
    "else:\n",
    "    print(\"not strong number\")"
   ]
  },
  {
   "cell_type": "code",
   "execution_count": 31,
   "id": "da22cc97",
   "metadata": {},
   "outputs": [
    {
     "name": "stdout",
     "output_type": "stream",
     "text": [
      "enter a number4\n",
      "the factorial is 24\n"
     ]
    }
   ],
   "source": [
    "#factorial of number\n",
    "num=int(input(\"enter a number\"))\n",
    "i=1\n",
    "fact=1\n",
    "while(i<=num):\n",
    "    fact=fact*i\n",
    "    i=i+1\n",
    "print(\"the factorial is\",fact)"
   ]
  },
  {
   "cell_type": "code",
   "execution_count": null,
   "id": "b06d1e0b",
   "metadata": {},
   "outputs": [],
   "source": [
    "#armstrong number\n",
    "num=int(input(\"enter the number\"))\n",
    "sum=0\n",
    "temp=num\n",
    "r=len(str(num))\n",
    "while(num):\n",
    "    s=num%10\n",
    "    t=s**r\n",
    "    sum=sum+t\n",
    "    num=num//10\n",
    "if(sum==temp):\n",
    "    print(\"the no. is armstrong\")\n",
    "else:\n",
    "    print(\"not an armstrong\")"
   ]
  },
  {
   "cell_type": "code",
   "execution_count": null,
   "id": "1384a198",
   "metadata": {},
   "outputs": [],
   "source": [
    "#neon number\n",
    "num=int(input(\"enter the number\"))\n",
    "r=num*num\n",
    "temp=r\n",
    "sum=0\n",
    "while(r):\n",
    "    s=r%10\n",
    "    sum=sum+s\n",
    "    r=r//10\n",
    "if(sum==num):\n",
    "    print(\"the no. is neon\")\n",
    "else:\n",
    "    print(\"not an neon\")"
   ]
  },
  {
   "cell_type": "code",
   "execution_count": null,
   "id": "b5229b6b",
   "metadata": {},
   "outputs": [],
   "source": [
    "#spy number\n",
    "num=int(input(\"enter the number\"))\n",
    "sum=0\n",
    "p=1\n",
    "temp=num\n",
    "while(num):\n",
    "    r=num%10\n",
    "    sum=sum+r\n",
    "    p=p*r\n",
    "    num=num//10\n",
    "if(sum==p):\n",
    "    print(\"it si spy number\")\n",
    "else:\n",
    "    print(\"it is not spy\")\n",
    "    "
   ]
  },
  {
   "cell_type": "code",
   "execution_count": 1,
   "id": "aa7daf2b",
   "metadata": {},
   "outputs": [
    {
     "name": "stdout",
     "output_type": "stream",
     "text": [
      "enter the year2024\n",
      "it is a leap year\n"
     ]
    }
   ],
   "source": [
    "#leap year\n",
    "year=int(input(\"enter the year\"))\n",
    "if(year%4==0 and year%100!=0 or year%400==0):\n",
    "    print(\"it is a leap year\")\n",
    "else:\n",
    "    print(\"it is not a leap year\")"
   ]
  },
  {
   "cell_type": "code",
   "execution_count": 19,
   "id": "eb99a2d6",
   "metadata": {},
   "outputs": [
    {
     "name": "stdout",
     "output_type": "stream",
     "text": [
      "enter the number68\n",
      "the number is happy number\n"
     ]
    }
   ],
   "source": [
    "#happy  number\n",
    "num=int(input(\"enter the number\"))\n",
    "while(num!=1 and num!=4):\n",
    "    sum=0\n",
    "    while(num):\n",
    "        r=num%10\n",
    "        s=r**2\n",
    "        sum=sum+s\n",
    "        num=num//10\n",
    "    num=sum\n",
    "if(sum==1):\n",
    "    print(\"the number is happy number\")\n",
    "elif(sum==4):\n",
    "    print(\"the number is not a happy number\")"
   ]
  },
  {
   "cell_type": "code",
   "execution_count": 36,
   "id": "433b91de",
   "metadata": {},
   "outputs": [
    {
     "name": "stdout",
     "output_type": "stream",
     "text": [
      "enter the start number3\n",
      "enter the end number10\n",
      "3\n",
      "5\n",
      "7\n",
      "total prime number in a given range is  3\n"
     ]
    }
   ],
   "source": [
    "start=int(input(\"enter the start number\"))\n",
    "end=int(input(\"enter the end number\"))\n",
    "count=0\n",
    "for num in range(start,end+1):\n",
    "    for i in range(2,num):\n",
    "        if(num%i==0):\n",
    "            break\n",
    "    else:\n",
    "        print(num)\n",
    "        count=count+1\n",
    "            \n",
    "print(\"total prime number in a given range is \",count)"
   ]
  },
  {
   "cell_type": "code",
   "execution_count": 39,
   "id": "71d68e2e",
   "metadata": {},
   "outputs": [
    {
     "name": "stdout",
     "output_type": "stream",
     "text": [
      "enter the value of n15\n",
      "the fibonnaci series of given number 15 is\n",
      "0 1 1 2 3 5 8 13 21 34 55 89 144 233 377 "
     ]
    }
   ],
   "source": [
    "n=int(input(\"enter the value of n\"))\n",
    "fib1=0\n",
    "fib2=1\n",
    "print(\"the fibonnaci series of given number\", n, \"is\")\n",
    "print(fib1,fib2,end=\" \")\n",
    "for i in range(2,n):\n",
    "    fib3=fib1+fib2\n",
    "    print(fib3,end=\" \")\n",
    "    fib1=fib2\n",
    "    fib2=fib3"
   ]
  },
  {
   "cell_type": "code",
   "execution_count": 17,
   "id": "41562e79",
   "metadata": {},
   "outputs": [
    {
     "name": "stdout",
     "output_type": "stream",
     "text": [
      "5\n",
      "* * * * * \n",
      "* * * * * \n",
      "* * * * * \n",
      "* * * * * \n",
      "* * * * * \n"
     ]
    }
   ],
   "source": [
    "#star pattern1\n",
    "n=int(input())\n",
    "for i in range(0,n):\n",
    "    for j in range(0,n):\n",
    "        print(\"*\",end=\" \")\n",
    "    print()"
   ]
  },
  {
   "cell_type": "code",
   "execution_count": 46,
   "id": "b3d470ca",
   "metadata": {},
   "outputs": [
    {
     "name": "stdout",
     "output_type": "stream",
     "text": [
      "5\n",
      "* \n",
      "* * \n",
      "* * * \n",
      "* * * * \n",
      "* * * * * \n"
     ]
    }
   ],
   "source": [
    "#star pattern2\n",
    "n=int(input())\n",
    "for i in range(0,n):\n",
    "    for j in range(0,n):\n",
    "        if(j<=i):\n",
    "            print(\"*\",end=\" \")\n",
    "    print()"
   ]
  },
  {
   "cell_type": "code",
   "execution_count": 51,
   "id": "bf991880",
   "metadata": {},
   "outputs": [
    {
     "name": "stdout",
     "output_type": "stream",
     "text": [
      "10\n",
      "* * * * * * * * * * \n",
      "* * * * * * * * * \n",
      "* * * * * * * * \n",
      "* * * * * * * \n",
      "* * * * * * \n",
      "* * * * * \n",
      "* * * * \n",
      "* * * \n",
      "* * \n",
      "* \n"
     ]
    }
   ],
   "source": [
    "#star pattern3\n",
    "n=int(input())\n",
    "for i in range(0,n):\n",
    "    for j in range(0,n):\n",
    "        if(j>=i):\n",
    "            print(\"*\",end=\" \")\n",
    "    print()"
   ]
  },
  {
   "cell_type": "code",
   "execution_count": 48,
   "id": "6fe5cca2",
   "metadata": {},
   "outputs": [
    {
     "name": "stdout",
     "output_type": "stream",
     "text": [
      "5\n",
      "        * \n",
      "      * * \n",
      "    * * * \n",
      "  * * * * \n",
      "* * * * * \n"
     ]
    }
   ],
   "source": [
    "#star pattern 4\n",
    "n=int(input())\n",
    "for i in range(0,n):\n",
    "    for j in range(0,n):\n",
    "        if(i+j>=n-1):\n",
    "            print(\"*\",end=\" \")\n",
    "        else:\n",
    "            print(\" \",end=\" \")\n",
    "    print()"
   ]
  },
  {
   "cell_type": "code",
   "execution_count": 50,
   "id": "32b20c7a",
   "metadata": {},
   "outputs": [
    {
     "name": "stdout",
     "output_type": "stream",
     "text": [
      "5\n",
      "* * * * * \n",
      "  * * * * \n",
      "    * * * \n",
      "      * * \n",
      "        * \n"
     ]
    }
   ],
   "source": [
    "#star pattern 5\n",
    "n=int(input())\n",
    "for i in range(0,n):\n",
    "    for j in range(0,n):\n",
    "        if(j>=i):\n",
    "            print(\"*\",end=\" \")\n",
    "        else:\n",
    "            print(\" \",end=\" \")\n",
    "    print()"
   ]
  },
  {
   "cell_type": "code",
   "execution_count": 4,
   "id": "8062186a",
   "metadata": {},
   "outputs": [
    {
     "name": "stdout",
     "output_type": "stream",
     "text": [
      "6\n",
      "1 \n",
      "2 2 \n",
      "3 3 3 \n",
      "4 4 4 4 \n",
      "5 5 5 5 5 \n",
      "6 6 6 6 6 6 \n"
     ]
    }
   ],
   "source": [
    "#star pattern 6\n",
    "n=int(input())\n",
    "for i in range(0,n):\n",
    "    for j in range(0,n):\n",
    "        if(j<=i):\n",
    "            print(i+1,end=\" \")\n",
    "    print()"
   ]
  },
  {
   "cell_type": "code",
   "execution_count": 5,
   "id": "d7d78b92",
   "metadata": {},
   "outputs": [
    {
     "name": "stdout",
     "output_type": "stream",
     "text": [
      "5\n",
      "1 \n",
      "1 2 \n",
      "1 2 3 \n",
      "1 2 3 4 \n",
      "1 2 3 4 5 \n"
     ]
    }
   ],
   "source": [
    "#star pattern 7\n",
    "n=int(input())\n",
    "for i in range(0,n):\n",
    "    for j in range(0,n):\n",
    "        if(j<=i):\n",
    "            print(j+1,end=\" \")\n",
    "    print()"
   ]
  },
  {
   "cell_type": "code",
   "execution_count": 8,
   "id": "a9ff33a4",
   "metadata": {},
   "outputs": [
    {
     "name": "stdout",
     "output_type": "stream",
     "text": [
      "5\n",
      "* * * * * \n",
      "*       * \n",
      "*       * \n",
      "*       * \n",
      "* * * * * \n"
     ]
    }
   ],
   "source": [
    "#star pattern 8\n",
    "n=int(input())\n",
    "for i in range(0,n):\n",
    "    for j in range(0,n):\n",
    "        if(i==0 or i==n-1 or j==0 or j==n-1):\n",
    "            print(\"*\",end=\" \")\n",
    "        else:\n",
    "            print(\" \",end=\" \")\n",
    "    print()"
   ]
  },
  {
   "cell_type": "code",
   "execution_count": 13,
   "id": "fcc95e84",
   "metadata": {},
   "outputs": [
    {
     "name": "stdout",
     "output_type": "stream",
     "text": [
      "5\n",
      "* * * * * \n",
      "* *   * * \n",
      "*   *   * \n",
      "* *   * * \n",
      "* * * * * \n"
     ]
    }
   ],
   "source": [
    "#star pattern 9\n",
    "n=int(input())\n",
    "for i in range(0,n):\n",
    "    for j in range(0,n):\n",
    "        if(i==0 or i==n-1 or j==0 or j==n-1 or j==i or i+j==n-1):\n",
    "            print(\"*\",end=\" \")\n",
    "            \n",
    "        else:\n",
    "            print(\" \",end=\" \")\n",
    "    print()"
   ]
  },
  {
   "cell_type": "code",
   "execution_count": 19,
   "id": "9fe0409c",
   "metadata": {},
   "outputs": [
    {
     "name": "stdout",
     "output_type": "stream",
     "text": [
      "5\n",
      "A\n",
      "A A A A A \n",
      "A A A A A \n",
      "A A A A A \n",
      "A A A A A \n",
      "A A A A A \n"
     ]
    }
   ],
   "source": [
    "#star pattern10\n",
    "n=int(input())\n",
    "k=input()\n",
    "for i in range(0,n):\n",
    "    for j in range(0,n):\n",
    "        print(k,end=\" \")\n",
    "    print()"
   ]
  },
  {
   "cell_type": "code",
   "execution_count": 22,
   "id": "a9a0d160",
   "metadata": {},
   "outputs": [
    {
     "name": "stdout",
     "output_type": "stream",
     "text": [
      "4\n",
      "1 2 3 4 \n",
      "5 6 7 8 \n",
      "9 10 11 12 \n",
      "13 14 15 16 \n"
     ]
    }
   ],
   "source": [
    "#star pattern10\n",
    "n=int(input())\n",
    "k=1\n",
    "for i in range(0,n):\n",
    "    for j in range(0,n):\n",
    "        print(k,end=\" \")\n",
    "        k+=1\n",
    "    print()"
   ]
  },
  {
   "cell_type": "code",
   "execution_count": 45,
   "id": "6bf36dff",
   "metadata": {},
   "outputs": [
    {
     "name": "stdout",
     "output_type": "stream",
     "text": [
      "enter arks of test 156\n",
      "enter arks of test 285\n",
      "enter arks of test 387\n",
      "70.5\n",
      "86.0\n",
      "71.5\n",
      "86.0\n"
     ]
    }
   ],
   "source": [
    "#2 out of 3 marks\n",
    "m1=int(input(\"enter arks of test 1\"))\n",
    "m2=int(input(\"enter arks of test 2\"))\n",
    "m3=int(input(\"enter arks of test 3\"))\n",
    "avg1=(m1+m2)/2\n",
    "avg2=(m2+m3)/2\n",
    "avg3=(m3+m1)/2\n",
    "print(avg1)\n",
    "print(avg2)\n",
    "print(avg3)\n",
    "if(avg1>avg3):\n",
    "    if(avg1>avg2):\n",
    "        \n",
    "        print(avg1)\n",
    "    else:\n",
    "        print(avg2)\n",
    "else:\n",
    "    if(avg2>avg3):\n",
    "        \n",
    "        print(avg2)\n",
    "    else:\n",
    "        print(avg3)\n",
    "\n"
   ]
  },
  {
   "cell_type": "code",
   "execution_count": 46,
   "id": "d39341a3",
   "metadata": {},
   "outputs": [
    {
     "name": "stdout",
     "output_type": "stream",
     "text": [
      "aryan\n",
      "ayn\n"
     ]
    }
   ],
   "source": [
    "#odd numbers of the index\n",
    "s=input(\"\")\n",
    "a=\"\"\n",
    "for i in range(0,len(s)):\n",
    "    if i%2==0:\n",
    "        a=a+s[i]\n",
    "print(a)"
   ]
  },
  {
   "cell_type": "code",
   "execution_count": 50,
   "id": "3901d840",
   "metadata": {},
   "outputs": [
    {
     "name": "stdout",
     "output_type": "stream",
     "text": [
      "enter the 1st number12\n",
      "enter the 2nd number21\n",
      "21\n",
      "12\n"
     ]
    }
   ],
   "source": [
    "#swapping two numbers using 3rd variable\n",
    "a=int(input(\"enter the 1st number\"))\n",
    "b=int(input(\"enter the 2nd number\"))\n",
    "temp=0\n",
    "temp=a\n",
    "a=b\n",
    "b=temp\n",
    "print(a)\n",
    "print(b)\n"
   ]
  },
  {
   "cell_type": "code",
   "execution_count": 51,
   "id": "c3eceee4",
   "metadata": {},
   "outputs": [
    {
     "name": "stdout",
     "output_type": "stream",
     "text": [
      "enter the 1st number12\n",
      "enter the 2nd number21\n",
      "21\n",
      "12\n"
     ]
    }
   ],
   "source": [
    "#swapping two numbers without 3rd variable\n",
    "a=int(input(\"enter the 1st number\"))\n",
    "b=int(input(\"enter the 2nd number\"))\n",
    "a=a+b\n",
    "b=a-b\n",
    "a=a-b\n",
    "print(a)\n",
    "print(b)"
   ]
  },
  {
   "cell_type": "code",
   "execution_count": null,
   "id": "4bcf9307",
   "metadata": {},
   "outputs": [],
   "source": []
  }
 ],
 "metadata": {
  "kernelspec": {
   "display_name": "Python 3 (ipykernel)",
   "language": "python",
   "name": "python3"
  },
  "language_info": {
   "codemirror_mode": {
    "name": "ipython",
    "version": 3
   },
   "file_extension": ".py",
   "mimetype": "text/x-python",
   "name": "python",
   "nbconvert_exporter": "python",
   "pygments_lexer": "ipython3",
   "version": "3.9.13"
  }
 },
 "nbformat": 4,
 "nbformat_minor": 5
}
