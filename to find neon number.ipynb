{
 "cells": [
  {
   "cell_type": "code",
   "execution_count": 1,
   "id": "ab6c7dd2",
   "metadata": {},
   "outputs": [
    {
     "name": "stdout",
     "output_type": "stream",
     "text": [
      "enter the number9\n",
      "the no. is neon\n"
     ]
    }
   ],
   "source": [
    "#neon number\n",
    "num=int(input(\"enter the number\"))\n",
    "r=num*num\n",
    "temp=r\n",
    "sum=0\n",
    "while(r):\n",
    "    s=r%10\n",
    "    sum=sum+s\n",
    "    r=r//10\n",
    "if(sum==num):\n",
    "    print(\"the no. is neon\")\n",
    "else:\n",
    "    print(\"not an neon\")"
   ]
  },
  {
   "cell_type": "code",
   "execution_count": null,
   "id": "4dab1ce7",
   "metadata": {},
   "outputs": [],
   "source": []
  }
 ],
 "metadata": {
  "kernelspec": {
   "display_name": "Python 3 (ipykernel)",
   "language": "python",
   "name": "python3"
  },
  "language_info": {
   "codemirror_mode": {
    "name": "ipython",
    "version": 3
   },
   "file_extension": ".py",
   "mimetype": "text/x-python",
   "name": "python",
   "nbconvert_exporter": "python",
   "pygments_lexer": "ipython3",
   "version": "3.9.13"
  }
 },
 "nbformat": 4,
 "nbformat_minor": 5
}
