{
 "cells": [
  {
   "cell_type": "code",
   "execution_count": 2,
   "id": "bc616b9c",
   "metadata": {},
   "outputs": [
    {
     "name": "stdout",
     "output_type": "stream",
     "text": [
      "enter the number145\n",
      "it is strong no.\n"
     ]
    }
   ],
   "source": [
    "#to check strong number\n",
    "num=int(input(\"enter the number\"))\n",
    "sum=0\n",
    "temp=num\n",
    "while(num):\n",
    "    i=1\n",
    "    f=1\n",
    "    r=num%10  #for extracting each digit\n",
    "    while(i<=r):\n",
    "        f=f*i\n",
    "        i=i+1\n",
    "    sum=sum+f  #find sum\n",
    "    num=num//10  #reduce the no.\n",
    "if(sum==temp):\n",
    "    print(\"it is strong no.\")\n",
    "else:\n",
    "    print(\"not strong number\")"
   ]
  },
  {
   "cell_type": "code",
   "execution_count": null,
   "id": "ee5d4692",
   "metadata": {},
   "outputs": [],
   "source": []
  }
 ],
 "metadata": {
  "kernelspec": {
   "display_name": "Python 3 (ipykernel)",
   "language": "python",
   "name": "python3"
  },
  "language_info": {
   "codemirror_mode": {
    "name": "ipython",
    "version": 3
   },
   "file_extension": ".py",
   "mimetype": "text/x-python",
   "name": "python",
   "nbconvert_exporter": "python",
   "pygments_lexer": "ipython3",
   "version": "3.9.13"
  }
 },
 "nbformat": 4,
 "nbformat_minor": 5
}
