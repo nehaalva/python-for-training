{
 "cells": [
  {
   "cell_type": "code",
   "execution_count": 3,
   "id": "c9cd1a0f",
   "metadata": {},
   "outputs": [
    {
     "name": "stdout",
     "output_type": "stream",
     "text": [
      "enter the value of n20\n",
      "the fibonnaci series of given number 20 is\n",
      "0 1 1 2 3 5 8 13 21 34 55 89 144 233 377 610 987 1597 2584 4181 "
     ]
    }
   ],
   "source": [
    "n=int(input(\"enter the value of n\"))\n",
    "fib1=0\n",
    "fib2=1\n",
    "print(\"the fibonnaci series of given number\", n, \"is\")\n",
    "print(fib1,fib2,end=\" \")\n",
    "for i in range(2,n):\n",
    "    fib3=fib1+fib2\n",
    "    print(fib3,end=\" \")\n",
    "    fib1=fib2\n",
    "    fib2=fib3"
   ]
  },
  {
   "cell_type": "code",
   "execution_count": null,
   "id": "a7433b4b",
   "metadata": {},
   "outputs": [],
   "source": []
  }
 ],
 "metadata": {
  "kernelspec": {
   "display_name": "Python 3 (ipykernel)",
   "language": "python",
   "name": "python3"
  },
  "language_info": {
   "codemirror_mode": {
    "name": "ipython",
    "version": 3
   },
   "file_extension": ".py",
   "mimetype": "text/x-python",
   "name": "python",
   "nbconvert_exporter": "python",
   "pygments_lexer": "ipython3",
   "version": "3.9.13"
  }
 },
 "nbformat": 4,
 "nbformat_minor": 5
}
