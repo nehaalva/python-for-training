{
 "cells": [
  {
   "cell_type": "code",
   "execution_count": 1,
   "id": "6e83a145",
   "metadata": {},
   "outputs": [
    {
     "name": "stdout",
     "output_type": "stream",
     "text": [
      "enter a number6\n",
      "the factorial is 720\n"
     ]
    }
   ],
   "source": [
    "#factorial of number\n",
    "num=int(input(\"enter a number\"))\n",
    "i=1\n",
    "fact=1\n",
    "while(i<=num):\n",
    "    fact=fact*i\n",
    "    i=i+1\n",
    "print(\"the factorial is\",fact)"
   ]
  },
  {
   "cell_type": "code",
   "execution_count": null,
   "id": "3dd542f4",
   "metadata": {},
   "outputs": [],
   "source": []
  }
 ],
 "metadata": {
  "kernelspec": {
   "display_name": "Python 3 (ipykernel)",
   "language": "python",
   "name": "python3"
  },
  "language_info": {
   "codemirror_mode": {
    "name": "ipython",
    "version": 3
   },
   "file_extension": ".py",
   "mimetype": "text/x-python",
   "name": "python",
   "nbconvert_exporter": "python",
   "pygments_lexer": "ipython3",
   "version": "3.9.13"
  }
 },
 "nbformat": 4,
 "nbformat_minor": 5
}
