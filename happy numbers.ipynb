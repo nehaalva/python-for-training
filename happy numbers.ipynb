{
 "cells": [
  {
   "cell_type": "code",
   "execution_count": 1,
   "id": "63d66890",
   "metadata": {},
   "outputs": [
    {
     "name": "stdout",
     "output_type": "stream",
     "text": [
      "enter the number68\n",
      "the number is happy number\n"
     ]
    }
   ],
   "source": [
    "#happy  number\n",
    "num=int(input(\"enter the number\"))\n",
    "while(num!=1 and num!=4):\n",
    "    sum=0\n",
    "    while(num):\n",
    "        r=num%10\n",
    "        s=r**2\n",
    "        sum=sum+s\n",
    "        num=num//10\n",
    "    num=sum\n",
    "if(sum==1):\n",
    "    print(\"the number is happy number\")\n",
    "elif(sum==4):\n",
    "    print(\"the number is not a happy number\")"
   ]
  },
  {
   "cell_type": "code",
   "execution_count": null,
   "id": "2b695d99",
   "metadata": {},
   "outputs": [],
   "source": []
  }
 ],
 "metadata": {
  "kernelspec": {
   "display_name": "Python 3 (ipykernel)",
   "language": "python",
   "name": "python3"
  },
  "language_info": {
   "codemirror_mode": {
    "name": "ipython",
    "version": 3
   },
   "file_extension": ".py",
   "mimetype": "text/x-python",
   "name": "python",
   "nbconvert_exporter": "python",
   "pygments_lexer": "ipython3",
   "version": "3.9.13"
  }
 },
 "nbformat": 4,
 "nbformat_minor": 5
}
