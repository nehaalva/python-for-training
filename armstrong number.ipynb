{
 "cells": [
  {
   "cell_type": "code",
   "execution_count": 1,
   "id": "37e08994",
   "metadata": {},
   "outputs": [
    {
     "name": "stdout",
     "output_type": "stream",
     "text": [
      "enter the number153\n",
      "the no. is armstrong\n"
     ]
    }
   ],
   "source": [
    "#armstrong number\n",
    "num=int(input(\"enter the number\"))\n",
    "sum=0\n",
    "temp=num\n",
    "r=len(str(num))\n",
    "while(num):\n",
    "    s=num%10\n",
    "    t=s**r\n",
    "    sum=sum+t\n",
    "    num=num//10\n",
    "if(sum==temp):\n",
    "    print(\"the no. is armstrong\")\n",
    "else:\n",
    "    print(\"not an armstrong\")"
   ]
  },
  {
   "cell_type": "code",
   "execution_count": null,
   "id": "ded136b2",
   "metadata": {},
   "outputs": [],
   "source": []
  }
 ],
 "metadata": {
  "kernelspec": {
   "display_name": "Python 3 (ipykernel)",
   "language": "python",
   "name": "python3"
  },
  "language_info": {
   "codemirror_mode": {
    "name": "ipython",
    "version": 3
   },
   "file_extension": ".py",
   "mimetype": "text/x-python",
   "name": "python",
   "nbconvert_exporter": "python",
   "pygments_lexer": "ipython3",
   "version": "3.9.13"
  }
 },
 "nbformat": 4,
 "nbformat_minor": 5
}
