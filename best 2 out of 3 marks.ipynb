{
 "cells": [
  {
   "cell_type": "code",
   "execution_count": 2,
   "id": "e1a94e06",
   "metadata": {},
   "outputs": [
    {
     "name": "stdout",
     "output_type": "stream",
     "text": [
      "enter arks of test 145\n",
      "enter arks of test 298\n",
      "enter arks of test 378\n",
      "71.5\n",
      "88.0\n",
      "61.5\n",
      "88.0\n"
     ]
    }
   ],
   "source": [
    "#2 out of 3 marks\n",
    "m1=int(input(\"enter arks of test 1\"))\n",
    "m2=int(input(\"enter arks of test 2\"))\n",
    "m3=int(input(\"enter arks of test 3\"))\n",
    "avg1=(m1+m2)/2\n",
    "avg2=(m2+m3)/2\n",
    "avg3=(m3+m1)/2\n",
    "print(avg1)\n",
    "print(avg2)\n",
    "print(avg3)\n",
    "if(avg1>avg3):\n",
    "    if(avg1>avg2):\n",
    "        \n",
    "        print(avg1)\n",
    "    else:\n",
    "        print(avg2)\n",
    "else:\n",
    "    if(avg2>avg3):\n",
    "        \n",
    "        print(avg2)\n",
    "    else:\n",
    "        print(avg3)\n",
    "\n"
   ]
  },
  {
   "cell_type": "code",
   "execution_count": null,
   "id": "9d694707",
   "metadata": {},
   "outputs": [],
   "source": []
  }
 ],
 "metadata": {
  "kernelspec": {
   "display_name": "Python 3 (ipykernel)",
   "language": "python",
   "name": "python3"
  },
  "language_info": {
   "codemirror_mode": {
    "name": "ipython",
    "version": 3
   },
   "file_extension": ".py",
   "mimetype": "text/x-python",
   "name": "python",
   "nbconvert_exporter": "python",
   "pygments_lexer": "ipython3",
   "version": "3.9.13"
  }
 },
 "nbformat": 4,
 "nbformat_minor": 5
}
