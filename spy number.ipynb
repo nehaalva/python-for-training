{
 "cells": [
  {
   "cell_type": "code",
   "execution_count": 1,
   "id": "e1dee4c0",
   "metadata": {},
   "outputs": [
    {
     "name": "stdout",
     "output_type": "stream",
     "text": [
      "enter the number1124\n",
      "it is spy number\n"
     ]
    }
   ],
   "source": [
    "#spy number\n",
    "num=int(input(\"enter the number\"))\n",
    "sum=0\n",
    "p=1\n",
    "temp=num\n",
    "while(num):\n",
    "    r=num%10\n",
    "    sum=sum+r\n",
    "    p=p*r\n",
    "    num=num//10\n",
    "if(sum==p):\n",
    "    print(\"it is spy number\")\n",
    "else:\n",
    "    print(\"it is not spy\")"
   ]
  },
  {
   "cell_type": "code",
   "execution_count": null,
   "id": "b0639787",
   "metadata": {},
   "outputs": [],
   "source": []
  }
 ],
 "metadata": {
  "kernelspec": {
   "display_name": "Python 3 (ipykernel)",
   "language": "python",
   "name": "python3"
  },
  "language_info": {
   "codemirror_mode": {
    "name": "ipython",
    "version": 3
   },
   "file_extension": ".py",
   "mimetype": "text/x-python",
   "name": "python",
   "nbconvert_exporter": "python",
   "pygments_lexer": "ipython3",
   "version": "3.9.13"
  }
 },
 "nbformat": 4,
 "nbformat_minor": 5
}
